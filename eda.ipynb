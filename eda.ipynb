{
 "cells": [
  {
   "cell_type": "code",
   "execution_count": 47,
   "id": "d7c537a4-3c83-4c74-a6f0-bf722ab3b0c1",
   "metadata": {},
   "outputs": [],
   "source": [
    "# import packages\n",
    "\n",
    "import numpy as np\n",
    "import pandas as pd\n",
    "import matplotlib.pyplot as plt\n",
    "import seaborn as sns\n",
    "%run data_cleaning.ipynb"
   ]
  },
  {
   "cell_type": "code",
   "execution_count": 48,
   "id": "97770cc7-c920-4a03-ab6d-11fbe1076c4d",
   "metadata": {},
   "outputs": [
    {
     "data": {
      "text/html": [
       "<div>\n",
       "<style scoped>\n",
       "    .dataframe tbody tr th:only-of-type {\n",
       "        vertical-align: middle;\n",
       "    }\n",
       "\n",
       "    .dataframe tbody tr th {\n",
       "        vertical-align: top;\n",
       "    }\n",
       "\n",
       "    .dataframe thead th {\n",
       "        text-align: right;\n",
       "    }\n",
       "</style>\n",
       "<table border=\"1\" class=\"dataframe\">\n",
       "  <thead>\n",
       "    <tr style=\"text-align: right;\">\n",
       "      <th></th>\n",
       "      <th>name</th>\n",
       "      <th>distance_m</th>\n",
       "      <th>moving_time_s</th>\n",
       "      <th>elapsed_time_s</th>\n",
       "      <th>elevation_change_m</th>\n",
       "      <th>type</th>\n",
       "      <th>date</th>\n",
       "      <th>average_cadence</th>\n",
       "      <th>average_heartrate</th>\n",
       "      <th>max_heartrate</th>\n",
       "      <th>pace_per_mile</th>\n",
       "      <th>distance_mi</th>\n",
       "      <th>id</th>\n",
       "      <th>time_of_day</th>\n",
       "      <th>average_zone</th>\n",
       "      <th>max_zone</th>\n",
       "      <th>ratio_avg_hr_to_max_hr</th>\n",
       "    </tr>\n",
       "  </thead>\n",
       "  <tbody>\n",
       "    <tr>\n",
       "      <th>0</th>\n",
       "      <td>Evening Run</td>\n",
       "      <td>5823</td>\n",
       "      <td>0 days 00:30:25</td>\n",
       "      <td>1828</td>\n",
       "      <td>10.9</td>\n",
       "      <td>Run</td>\n",
       "      <td>2022-12-26</td>\n",
       "      <td>86.7</td>\n",
       "      <td>152.4</td>\n",
       "      <td>167</td>\n",
       "      <td>0 days 00:08:24.143646408</td>\n",
       "      <td>3.62</td>\n",
       "      <td>NaN</td>\n",
       "      <td>evening</td>\n",
       "      <td>3</td>\n",
       "      <td>4</td>\n",
       "      <td>0.912575</td>\n",
       "    </tr>\n",
       "    <tr>\n",
       "      <th>1</th>\n",
       "      <td>Morning Run</td>\n",
       "      <td>2650</td>\n",
       "      <td>0 days 00:18:30</td>\n",
       "      <td>1633</td>\n",
       "      <td>-6.6</td>\n",
       "      <td>Run</td>\n",
       "      <td>2022-12-28</td>\n",
       "      <td>73.7</td>\n",
       "      <td>133.0</td>\n",
       "      <td>157</td>\n",
       "      <td>0 days 00:11:12.727272727</td>\n",
       "      <td>1.65</td>\n",
       "      <td>NaN</td>\n",
       "      <td>morning</td>\n",
       "      <td>2</td>\n",
       "      <td>4</td>\n",
       "      <td>0.847134</td>\n",
       "    </tr>\n",
       "    <tr>\n",
       "      <th>2</th>\n",
       "      <td>Evening Run</td>\n",
       "      <td>2813</td>\n",
       "      <td>0 days 00:14:56</td>\n",
       "      <td>896</td>\n",
       "      <td>23.2</td>\n",
       "      <td>Run</td>\n",
       "      <td>2023-01-08</td>\n",
       "      <td>86.5</td>\n",
       "      <td>160.9</td>\n",
       "      <td>173</td>\n",
       "      <td>0 days 00:08:32</td>\n",
       "      <td>1.75</td>\n",
       "      <td>NaN</td>\n",
       "      <td>evening</td>\n",
       "      <td>4</td>\n",
       "      <td>5</td>\n",
       "      <td>0.930058</td>\n",
       "    </tr>\n",
       "    <tr>\n",
       "      <th>3</th>\n",
       "      <td>Afternoon Run</td>\n",
       "      <td>3382</td>\n",
       "      <td>0 days 00:18:22</td>\n",
       "      <td>1179</td>\n",
       "      <td>18.9</td>\n",
       "      <td>Run</td>\n",
       "      <td>2023-02-04</td>\n",
       "      <td>85.9</td>\n",
       "      <td>141.4</td>\n",
       "      <td>176</td>\n",
       "      <td>0 days 00:08:44.761904761</td>\n",
       "      <td>2.10</td>\n",
       "      <td>NaN</td>\n",
       "      <td>afternoon</td>\n",
       "      <td>3</td>\n",
       "      <td>5</td>\n",
       "      <td>0.803409</td>\n",
       "    </tr>\n",
       "    <tr>\n",
       "      <th>4</th>\n",
       "      <td>Afternoon Run</td>\n",
       "      <td>3652</td>\n",
       "      <td>0 days 00:22:35</td>\n",
       "      <td>1357</td>\n",
       "      <td>31.8</td>\n",
       "      <td>Run</td>\n",
       "      <td>2023-02-06</td>\n",
       "      <td>82.7</td>\n",
       "      <td>146.8</td>\n",
       "      <td>166</td>\n",
       "      <td>0 days 00:09:56.916299559</td>\n",
       "      <td>2.27</td>\n",
       "      <td>NaN</td>\n",
       "      <td>afternoon</td>\n",
       "      <td>3</td>\n",
       "      <td>4</td>\n",
       "      <td>0.884337</td>\n",
       "    </tr>\n",
       "  </tbody>\n",
       "</table>\n",
       "</div>"
      ],
      "text/plain": [
       "            name  distance_m   moving_time_s  elapsed_time_s  \\\n",
       "0    Evening Run        5823 0 days 00:30:25            1828   \n",
       "1    Morning Run        2650 0 days 00:18:30            1633   \n",
       "2    Evening Run        2813 0 days 00:14:56             896   \n",
       "3  Afternoon Run        3382 0 days 00:18:22            1179   \n",
       "4  Afternoon Run        3652 0 days 00:22:35            1357   \n",
       "\n",
       "   elevation_change_m type        date  average_cadence  average_heartrate  \\\n",
       "0                10.9  Run  2022-12-26             86.7              152.4   \n",
       "1                -6.6  Run  2022-12-28             73.7              133.0   \n",
       "2                23.2  Run  2023-01-08             86.5              160.9   \n",
       "3                18.9  Run  2023-02-04             85.9              141.4   \n",
       "4                31.8  Run  2023-02-06             82.7              146.8   \n",
       "\n",
       "   max_heartrate             pace_per_mile  distance_mi  id time_of_day  \\\n",
       "0            167 0 days 00:08:24.143646408         3.62 NaN     evening   \n",
       "1            157 0 days 00:11:12.727272727         1.65 NaN     morning   \n",
       "2            173           0 days 00:08:32         1.75 NaN     evening   \n",
       "3            176 0 days 00:08:44.761904761         2.10 NaN   afternoon   \n",
       "4            166 0 days 00:09:56.916299559         2.27 NaN   afternoon   \n",
       "\n",
       "   average_zone  max_zone  ratio_avg_hr_to_max_hr  \n",
       "0             3         4                0.912575  \n",
       "1             2         4                0.847134  \n",
       "2             4         5                0.930058  \n",
       "3             3         5                0.803409  \n",
       "4             3         4                0.884337  "
      ]
     },
     "execution_count": 48,
     "metadata": {},
     "output_type": "execute_result"
    }
   ],
   "source": [
    "# load the cleaned_dataset\n",
    "# runs_df = pd.read_csv('run_data.csv')\n",
    "runs_df.head()"
   ]
  },
  {
   "cell_type": "code",
   "execution_count": 49,
   "id": "3652e964-d43b-45d1-86a1-b06a4752ce8e",
   "metadata": {},
   "outputs": [
    {
     "name": "stdout",
     "output_type": "stream",
     "text": [
      "average_zone\n",
      "2     2\n",
      "3    84\n",
      "4    86\n",
      "dtype: int64\n",
      "max_zone\n",
      "3      7\n",
      "4    111\n",
      "5     54\n",
      "dtype: int64\n"
     ]
    }
   ],
   "source": [
    "# view trends in the running zone\n",
    "\n",
    "print(runs_df.groupby('average_zone').size())\n",
    "print(runs_df.groupby('max_zone').size())"
   ]
  },
  {
   "cell_type": "markdown",
   "id": "cb73a24c-e426-4dc4-898f-972c88f121dd",
   "metadata": {},
   "source": [
    "Only 2 of my tracked runs have averaged out to zone 2 running. There is a relatively even split between zone 3 and zone 4 runs though. The zone corresponding to my max heart rate during runs follows a similar trend with only a few runs falling into zone 3 and most falling into zone 4 or 5."
   ]
  },
  {
   "cell_type": "code",
   "execution_count": 53,
   "id": "ed80a329-cf7a-4f4f-ae0d-bc8452a05b41",
   "metadata": {},
   "outputs": [
    {
     "name": "stdout",
     "output_type": "stream",
     "text": [
      "2023 Colfax Half Training:\n",
      "average_zone\n",
      "3    18\n",
      "4    21\n",
      "dtype: int64\n",
      "\n",
      "2024 Colfax Half Training:\n",
      "average_zone\n",
      "3    28\n",
      "4    20\n",
      "dtype: int64\n"
     ]
    }
   ],
   "source": [
    "# number of runs in each zone between the two training programs for the colfax half\n",
    "\n",
    "training_start_2023 = pd.Timestamp(2023, 2, 4).date()\n",
    "training_end_2023 = pd.Timestamp(2023, 5, 21).date()\n",
    "training_start_2024 = pd.Timestamp(2024, 1, 21).date()\n",
    "training_end_2024 = pd.Timestamp(2024, 5, 19).date()\n",
    "\n",
    "training_1_runs = runs_df.loc[(runs_df['date'] >= training_start_2023) & (runs_df['date'] < training_end_2023)]\n",
    "training_2_runs = runs_df.loc[(runs_df['date'] >= training_start_2024) & (runs_df['date'] < training_end_2024)]\n",
    "\n",
    "print(f'2023 Colfax Half Training:\\n{training_1_runs.groupby(\"average_zone\").size()}\\n')\n",
    "print(f'2024 Colfax Half Training:\\n{training_2_runs.groupby(\"average_zone\").size()}')"
   ]
  },
  {
   "cell_type": "code",
   "execution_count": 58,
   "id": "ffead11d-8037-4b28-a49d-7ce48d50b3aa",
   "metadata": {},
   "outputs": [
    {
     "name": "stdout",
     "output_type": "stream",
     "text": [
      "2023 Colfax Half Training:\n",
      "Average Pace: 0 days 00:08:34.175108744\n",
      "Total Miles: 152.67000000000002\n",
      "Total Runs: 39\n",
      "\n",
      "2024 Colfax Half Training:\n",
      "Average Pace: 0 days 00:08:39.881966566\n",
      "Total Miles: 216.37\n",
      "Total Runs: 48\n"
     ]
    }
   ],
   "source": [
    "average_pace_2023 = training_1_runs['pace_per_mile'].mean()\n",
    "average_pace_2024 = training_2_runs['pace_per_mile'].mean()\n",
    "total_miles_2023 = training_1_runs['distance_mi'].sum()\n",
    "total_miles_2024 = training_2_runs['distance_mi'].sum()\n",
    "\n",
    "print(f'2023 Colfax Half Training:\\nAverage Pace: {average_pace_2023}\\nTotal Miles: {total_miles_2023}\\nTotal Runs: {training_1_runs.shape[0]}\\n')\n",
    "print(f'2024 Colfax Half Training:\\nAverage Pace: {average_pace_2024}\\nTotal Miles: {total_miles_2024}\\nTotal Runs: {training_2_runs.shape[0]}')"
   ]
  },
  {
   "cell_type": "markdown",
   "id": "e371f4d6-9a22-44ab-94ab-226891098fb5",
   "metadata": {},
   "source": [
    "I ran ~30% less miles in the first training program compared to the second, yet maintained a similar pace. I ran 9 more times leading up to the race which was almost a 25% increase."
   ]
  },
  {
   "cell_type": "code",
   "execution_count": null,
   "id": "9d032bc2-43ff-4ae6-a73d-08c09887723e",
   "metadata": {},
   "outputs": [],
   "source": []
  }
 ],
 "metadata": {
  "kernelspec": {
   "display_name": "Python 3 (ipykernel)",
   "language": "python",
   "name": "python3"
  },
  "language_info": {
   "codemirror_mode": {
    "name": "ipython",
    "version": 3
   },
   "file_extension": ".py",
   "mimetype": "text/x-python",
   "name": "python",
   "nbconvert_exporter": "python",
   "pygments_lexer": "ipython3",
   "version": "3.11.2"
  }
 },
 "nbformat": 4,
 "nbformat_minor": 5
}
