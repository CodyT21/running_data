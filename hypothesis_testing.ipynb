{
 "cells": [
  {
   "cell_type": "markdown",
   "id": "864e5f3e-65ad-409d-9eb0-8bab647f30d7",
   "metadata": {},
   "source": [
    "There did not appear to be much correlation in my paces over time, however I did see an increase in runs at lower pace zones. I am curious if there is any statistically significant difference in (1) my overall pace between 2023 and 2024, and (2) my overall pace for runs average heart rates in the different zones."
   ]
  },
  {
   "cell_type": "markdown",
   "id": "87ae249e-376f-44f0-bb80-b45c8d83ba24",
   "metadata": {},
   "source": [
    "### Hypothesis testing on the overall pace between 2023 and 2024 (Only using runs from the same time period, i.e. runs in 2023 and 2024 from 01-Jan to 22-Aug)"
   ]
  },
  {
   "cell_type": "code",
   "execution_count": 138,
   "id": "7a0ea1f6-9121-4332-8fdf-34c377f83751",
   "metadata": {},
   "outputs": [],
   "source": [
    "# import packages and datasets\n",
    "import pandas as pd\n",
    "import numpy as np\n",
    "import datetime\n",
    "import scipy.stats as stats\n",
    "import seaborn as sns\n",
    "import matplotlib.pyplot as plt\n",
    "from process_strava_data import load_run_data\n",
    "%matplotlib inline"
   ]
  },
  {
   "cell_type": "code",
   "execution_count": 139,
   "id": "b15c23e9-5339-4572-994a-0d982c5dc2f7",
   "metadata": {},
   "outputs": [
    {
     "data": {
      "text/plain": [
       "(192, 20)"
      ]
     },
     "execution_count": 139,
     "metadata": {},
     "output_type": "execute_result"
    }
   ],
   "source": [
    "# load running dataset\n",
    "runs_df = load_run_data()\n",
    "runs_df.head()\n",
    "runs_df.shape"
   ]
  },
  {
   "cell_type": "code",
   "execution_count": 140,
   "id": "17971475-2d52-45d6-b3cc-ae2721cb7ef7",
   "metadata": {},
   "outputs": [
    {
     "name": "stdout",
     "output_type": "stream",
     "text": [
      "Overall average pace in seconds in 2023: 511.4082034505275\n",
      "Overall average pace in seconds in 2024: 524.6229290141899\n"
     ]
    }
   ],
   "source": [
    "# filter runs by year and extract the average pace for each run\n",
    "cutoff_date_2023 = datetime.datetime.now() - datetime.timedelta(days=365)\n",
    "runs_df['avg_pace_s'] = runs_df['moving_time_s'] / runs_df['distance_mi']\n",
    "avg_paces_2023 = runs_df[(runs_df['year'] == 2023) & (runs_df['date'] <= cutoff_date_2023)]['avg_pace_s']\n",
    "avg_paces_2024 = runs_df[runs_df['year'] == 2024]['avg_pace_s']\n",
    "\n",
    "print(f'Overall average pace in seconds in 2023: {avg_paces_2023.mean()}')\n",
    "print(f'Overall average pace in seconds in 2024: {avg_paces_2024.mean()}')"
   ]
  },
  {
   "cell_type": "markdown",
   "id": "c3b2e1cf-48eb-40ba-af45-92e1c506861b",
   "metadata": {},
   "source": [
    "Checking assumptions for a 2-sample t-test:\n",
    "1. Independent samples - this assumption may not be fully met as previous runs may influence future runs (i.e. a long run on a sunday may cause a slower pace if another run is done the next day or the day after. We will still continue with the hypothesis testing despite this though. "
   ]
  },
  {
   "cell_type": "markdown",
   "id": "1da53331-cfd6-43b2-8ba2-8a3893848293",
   "metadata": {},
   "source": [
    "2. Normal distributions - Both the 2023 and 2024 average run paces do appear to follow an approximate normal distribution."
   ]
  },
  {
   "cell_type": "code",
   "execution_count": 141,
   "id": "0f5aa228-8303-4b3e-9102-a8c5284fdf94",
   "metadata": {},
   "outputs": [
    {
     "data": {
      "image/png": "[encoded data removed]",
      "text/plain": [
       "<Figure size 640x480 with 2 Axes>"
      ]
     },
     "metadata": {},
     "output_type": "display_data"
    }
   ],
   "source": [
    "# plot pace distrubutions for 2023 and 2024 runs\n",
    "fig, (ax1, ax2) = plt.subplots(1, 2)\n",
    "sns.histplot(avg_paces_2023, ax=ax1)\n",
    "ax1.set_title('Distribution of Paces 2023')\n",
    "sns.histplot(avg_paces_2024, ax=ax2)\n",
    "ax2.set_title('Distribution of Paces 2024')\n",
    "\n",
    "plt.show()"
   ]
  },
  {
   "cell_type": "markdown",
   "id": "de6b9aa5-c49c-48b3-8afa-e4c3e6aafaf3",
   "metadata": {},
   "source": [
    "3. Homogeneity assumption - This assumption appears to be met as the ratio of the average pace variance for 2023 and 2024 is less than 4:1 so we will consider that the given data groups have equal variance."
   ]
  },
  {
   "cell_type": "code",
   "execution_count": 142,
   "id": "5176b07b-0665-4cea-9023-e5f3d4ba1ded",
   "metadata": {},
   "outputs": [
    {
     "name": "stdout",
     "output_type": "stream",
     "text": [
      "2023 variance: 1264.162193298281\n",
      "2024 variance: 1952.2820565967343\n"
     ]
    }
   ],
   "source": [
    "print(f'2023 variance: {np.var(avg_paces_2023)}\\n2024 variance: {np.var(avg_paces_2024)}')"
   ]
  },
  {
   "cell_type": "markdown",
   "id": "658d7532-999a-45c0-9094-1a6f1cc28823",
   "metadata": {},
   "source": [
    "### Conducting the Hypothesis Test on the Overall Average Paces for the Years 2023 and 2024\n",
    "$H_0$: $\\mu_{2024}$ = $\\mu_{2023}$ - The average pace in 2024 is equal to the average pace in 2023.\n",
    "\n",
    "$H_A$: $\\mu_{2024}$ < $\\mu_{2023}$ - The average pace in 2024 is less than the average pace in 2023 (i.e. my average pace is faster in 2024)."
   ]
  },
  {
   "cell_type": "code",
   "execution_count": 143,
   "id": "e3ff3c5e-8f2b-4050-993b-7fbc058439b0",
   "metadata": {},
   "outputs": [
    {
     "data": {
      "text/plain": [
       "TtestResult(statistic=np.float64(2.0565256590129026), pvalue=np.float64(0.979306465104414), df=np.float64(157.0))"
      ]
     },
     "execution_count": 143,
     "metadata": {},
     "output_type": "execute_result"
    }
   ],
   "source": [
    "stats.ttest_ind(avg_paces_2024, avg_paces_2023, alternative='less', equal_var=True)"
   ]
  },
  {
   "cell_type": "markdown",
   "id": "8fca995e-f4a1-4f66-a86c-07917e0d1a03",
   "metadata": {},
   "source": [
    "The p-value of 0.979 is much greater than our alpha of 0.05, which suggests that we have failed to reject the null hypothesis. Thus we cannot say that my overall average pace in 2024 is less than my overall average pace in 2023."
   ]
  },
  {
   "cell_type": "markdown",
   "id": "55f190f9-a49d-49ac-924b-12b30885aeea",
   "metadata": {},
   "source": [
    "### Conducting the Hypothesis Test on the Zone 2 Average Paces for the Years 2023 and 2024"
   ]
  },
  {
   "cell_type": "code",
   "execution_count": 144,
   "id": "2444507a-0cee-490b-b028-316cfbecc0c6",
   "metadata": {},
   "outputs": [
    {
     "name": "stdout",
     "output_type": "stream",
     "text": [
      "Zone 2 average pace in seconds in 2023: 519.2826509468331\n",
      "Zone 2 average pace in seconds in 2024: 534.302749360721\n",
      "2023 zone 2 variance: 1744.1510305944837\n",
      "2024 zone 2 variance: 2704.285060425006\n"
     ]
    }
   ],
   "source": [
    "avg_zone2_paces_2023 = runs_df[(runs_df['year'] == 2023) & (runs_df['date'] <= cutoff_date_2023) & (runs_df['average_zone'] == 2)]['avg_pace_s']\n",
    "avg_zone2_paces_2024 = runs_df[(runs_df['year'] == 2024) & (runs_df['average_zone'] == 2)]['avg_pace_s']\n",
    "print(f'Zone 2 average pace in seconds in 2023: {avg_zone2_paces_2023.mean()}')\n",
    "print(f'Zone 2 average pace in seconds in 2024: {avg_zone2_paces_2024.mean()}')\n",
    "print(f'2023 zone 2 variance: {np.var(avg_zone2_paces_2023)}\\n2024 zone 2 variance: {np.var(avg_zone2_paces_2024)}')"
   ]
  },
  {
   "cell_type": "markdown",
   "id": "ab99c460-5d37-4f04-b274-270a1a16dd3b",
   "metadata": {},
   "source": [
    "$H_0$: $\\mu_{2024}$ = $\\mu_{2023}$ - The average zone 2 pace in 2024 is equal to the average zone 2 pace in 2023.\n",
    "\n",
    "$H_A$: $\\mu_{2024}$ < $\\mu_{2023}$ - The average zone 2 pace in 2024 is less than the average zone 2 pace in 2023 (i.e. my average pace is faster in 2024)."
   ]
  },
  {
   "cell_type": "code",
   "execution_count": 145,
   "id": "613e9e30-4eeb-4054-845e-2f39417f2d5e",
   "metadata": {},
   "outputs": [
    {
     "data": {
      "text/plain": [
       "TtestResult(statistic=np.float64(0.9972091162402668), pvalue=np.float64(0.8380023641371901), df=np.float64(45.0))"
      ]
     },
     "execution_count": 145,
     "metadata": {},
     "output_type": "execute_result"
    }
   ],
   "source": [
    "stats.ttest_ind(avg_zone2_paces_2024, avg_zone2_paces_2023, alternative='less', equal_var=True)"
   ]
  },
  {
   "cell_type": "markdown",
   "id": "6b1f92e2-1a3c-4175-9b14-57de2bbb350f",
   "metadata": {},
   "source": [
    "The p-value of 0.838 is much greater than our alpha of 0.05, which suggests that we have failed to reject the null hypothesis. Thus we cannot say that my average zone 2 pace in 2024 is less than my average zone 2 pace in 2023."
   ]
  },
  {
   "cell_type": "markdown",
   "id": "71c9fc09-6e51-4ccb-aca0-a665ad5a8989",
   "metadata": {},
   "source": [
    "### Conducting the Hypothesis Test on the Zone 3 Average Paces for the Years 2023 and 2024"
   ]
  },
  {
   "cell_type": "code",
   "execution_count": 146,
   "id": "8860ddad-24fe-4b3e-b06c-dd6de7ee88b2",
   "metadata": {},
   "outputs": [
    {
     "name": "stdout",
     "output_type": "stream",
     "text": [
      "Zone 3 average pace in seconds in 2023: 511.52800915076324\n",
      "Zone 3 average pace in seconds in 2024: 522.3853135056125\n",
      "2023 zone 3 variance: 1120.6717208477605\n",
      "2024 zone 3 variance: 1111.7439325563162\n"
     ]
    }
   ],
   "source": [
    "avg_zone3_paces_2023 = runs_df[(runs_df['year'] == 2023) & (runs_df['date'] <= cutoff_date_2023) & (runs_df['average_zone'] == 3)]['avg_pace_s']\n",
    "avg_zone3_paces_2024 = runs_df[(runs_df['year'] == 2024) & (runs_df['average_zone'] == 3)]['avg_pace_s']\n",
    "print(f'Zone 3 average pace in seconds in 2023: {avg_zone3_paces_2023.mean()}')\n",
    "print(f'Zone 3 average pace in seconds in 2024: {avg_zone3_paces_2024.mean()}')\n",
    "print(f'2023 zone 3 variance: {np.var(avg_zone3_paces_2023)}\\n2024 zone 3 variance: {np.var(avg_zone3_paces_2024)}')"
   ]
  },
  {
   "cell_type": "markdown",
   "id": "ce768d07-dad2-4238-9fd6-2f8552931c4d",
   "metadata": {},
   "source": [
    "$H_0$: $\\mu_{2024}$ = $\\mu_{2023}$ - The average zone 3 pace in 2024 is equal to the average zone 3 pace in 2023.\n",
    "\n",
    "$H_A$: $\\mu_{2024}$ < $\\mu_{2023}$ - The average zone 3 pace in 2024 is less than the average zone 3 pace in 2023 (i.e. my average pace is faster in 2024)."
   ]
  },
  {
   "cell_type": "code",
   "execution_count": 147,
   "id": "8367fe1c-e54b-4d82-a4d0-d436905f3a26",
   "metadata": {},
   "outputs": [
    {
     "data": {
      "text/plain": [
       "TtestResult(statistic=np.float64(1.5596278964015193), pvalue=np.float64(0.938877756956959), df=np.float64(93.0))"
      ]
     },
     "execution_count": 147,
     "metadata": {},
     "output_type": "execute_result"
    }
   ],
   "source": [
    "stats.ttest_ind(avg_zone3_paces_2024, avg_zone3_paces_2023, alternative='less', equal_var=True)"
   ]
  },
  {
   "cell_type": "markdown",
   "id": "588d59d8-0707-4b85-8bba-3aee58bc9924",
   "metadata": {},
   "source": [
    "The p-value of 0.939 is much greater than our alpha of 0.05, which suggests that we have failed to reject the null hypothesis. Thus we cannot say that my average zone 3 pace in 2024 is less than my average zone 3 pace in 2023."
   ]
  },
  {
   "cell_type": "markdown",
   "id": "8b582c6b-829f-45ed-9a86-1b27e689a9f9",
   "metadata": {},
   "source": [
    "### Conducting the Hypothesis Test on the Zone 4 Average Paces for the Years 2023 and 2024"
   ]
  },
  {
   "cell_type": "code",
   "execution_count": 148,
   "id": "4b32a01f-0389-40b1-9cba-bfd91087b217",
   "metadata": {},
   "outputs": [
    {
     "name": "stdout",
     "output_type": "stream",
     "text": [
      "Zone 4 average pace in seconds in 2023: 499.1881902680862\n",
      "Zone 4 average pace in seconds in 2024: 491.25759956849515\n",
      "2023 zone 4 variance: 619.7905454668952\n",
      "2024 zone 4 variance: 1741.1817612365248\n"
     ]
    }
   ],
   "source": [
    "avg_zone4_paces_2023 = runs_df[(runs_df['year'] == 2023) & (runs_df['date'] <= cutoff_date_2023) & (runs_df['average_zone'] == 4)]['avg_pace_s']\n",
    "avg_zone4_paces_2024 = runs_df[(runs_df['year'] == 2024) & (runs_df['average_zone'] == 4)]['avg_pace_s']\n",
    "print(f'Zone 4 average pace in seconds in 2023: {avg_zone4_paces_2023.mean()}')\n",
    "print(f'Zone 4 average pace in seconds in 2024: {avg_zone4_paces_2024.mean()}')\n",
    "print(f'2023 zone 4 variance: {np.var(avg_zone4_paces_2023)}\\n2024 zone 4 variance: {np.var(avg_zone4_paces_2024)}')"
   ]
  },
  {
   "cell_type": "markdown",
   "id": "874676ad-af0f-46b6-8e19-44e714c5ab47",
   "metadata": {},
   "source": [
    "$H_0$: $\\mu_{2024}$ = $\\mu_{2023}$ - The average zone 4 pace in 2024 is equal to the average zone 4 pace in 2023.\n",
    "\n",
    "$H_A$: $\\mu_{2024}$ < $\\mu_{2023}$ - The average zone 4 pace in 2024 is less than the average zone 4 pace in 2023 (i.e. my average pace is faster in 2024)."
   ]
  },
  {
   "cell_type": "code",
   "execution_count": 149,
   "id": "24daae0c-98f9-4932-a9cd-64ecef52ad6f",
   "metadata": {},
   "outputs": [
    {
     "data": {
      "text/plain": [
       "TtestResult(statistic=np.float64(-0.4087711518165805), pvalue=np.float64(0.3446807654483698), df=np.float64(13.0))"
      ]
     },
     "execution_count": 149,
     "metadata": {},
     "output_type": "execute_result"
    }
   ],
   "source": [
    "stats.ttest_ind(avg_zone4_paces_2024, avg_zone4_paces_2023, alternative='less', equal_var=True)"
   ]
  },
  {
   "cell_type": "markdown",
   "id": "63697af2-f9b4-444e-92e0-61c3a00d45ad",
   "metadata": {},
   "source": [
    "The p-value of 0.345 is greater than our alpha of 0.05, which suggests that we have failed to reject the null hypothesis. Thus we cannot say that my average zone 4 pace in 2024 is less than my average zone 4 pace in 2023."
   ]
  },
  {
   "cell_type": "markdown",
   "id": "f7429af2-1a37-4367-ad51-3816dd6dc216",
   "metadata": {},
   "source": [
    "There does not appear to be any statistically significant results that would indicate that my running in 2024 is faster than my running in 2023 thus far in 2024. "
   ]
  },
  {
   "cell_type": "code",
   "execution_count": null,
   "id": "cfe9db79-ae66-4ccb-83da-63cb5499084c",
   "metadata": {},
   "outputs": [],
   "source": []
  }
 ],
 "metadata": {
  "kernelspec": {
   "display_name": "Python 3 (ipykernel)",
   "language": "python",
   "name": "python3"
  },
  "language_info": {
   "codemirror_mode": {
    "name": "ipython",
    "version": 3
   },
   "file_extension": ".py",
   "mimetype": "text/x-python",
   "name": "python",
   "nbconvert_exporter": "python",
   "pygments_lexer": "ipython3",
   "version": "3.11.2"
  }
 },
 "nbformat": 4,
 "nbformat_minor": 5
}
